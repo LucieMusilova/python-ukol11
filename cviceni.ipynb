{
 "cells": [
  {
   "cell_type": "markdown",
   "metadata": {},
   "source": [
    "Pomocí nástroje regex101 vymysli regulární výraz, který označí platná data a neoznačí neplatná data.\n"
   ]
  },
  {
   "cell_type": "code",
   "execution_count": 12,
   "metadata": {},
   "outputs": [],
   "source": [
    "import re"
   ]
  },
  {
   "cell_type": "code",
   "execution_count": 13,
   "metadata": {},
   "outputs": [
    {
     "name": "stdout",
     "output_type": "stream",
     "text": [
      "<re.Match object; span=(0, 8), match='2.2.2022'>\n",
      "<re.Match object; span=(0, 11), match='13. 8. 1999'>\n",
      "<re.Match object; span=(0, 8), match='4/5/2001'>\n",
      "None\n",
      "None\n",
      "None\n"
     ]
    }
   ],
   "source": [
    "retezec1 = \"2.2.2022\"\n",
    "retezec2 = \"13. 8. 1999\"\n",
    "retezec3 = \"4/5/2001\"\n",
    "retezec4 = \"5.123.458.91\"\n",
    "retezec5 = \"21.4\"\n",
    "retezec6 = \"8./9\"\n",
    "\n",
    "#regex pro check správného formátu datumů\n",
    "regex = re.compile(r\"([1-9]|[12][0-9]|3[01])[./]\\s?\\d{1,2}[./]\\s?\\d{4}\")\n",
    "\n",
    "print(regex.fullmatch(retezec1))\n",
    "print(regex.fullmatch(retezec2))\n",
    "print(regex.fullmatch(retezec3))\n",
    "print(regex.fullmatch(retezec4))\n",
    "print(regex.fullmatch(retezec5))\n",
    "print(regex.fullmatch(retezec6))"
   ]
  },
  {
   "cell_type": "markdown",
   "metadata": {},
   "source": [
    "Zkopíruj si obsah souboru posta.txt do regex101 jako testovací řetězec. Vymysli regulární výraz, který označí všechny \"poslední řádky adresy\" v textu. Poslední řádka adresy zpravidla obsahuje PSČ a název obce, například 190 16 PRAHA 916 nebo 742 45 FULNEK. Celkem by jich mělo být 18."
   ]
  },
  {
   "cell_type": "code",
   "execution_count": 14,
   "metadata": {},
   "outputs": [],
   "source": [
    "import pandas"
   ]
  },
  {
   "cell_type": "code",
   "execution_count": 15,
   "metadata": {},
   "outputs": [
    {
     "name": "stdout",
     "output_type": "stream",
     "text": [
      "Načtení textu ze souboru .txt\n"
     ]
    },
    {
     "data": {
      "text/html": [
       "<div>\n",
       "<style scoped>\n",
       "    .dataframe tbody tr th:only-of-type {\n",
       "        vertical-align: middle;\n",
       "    }\n",
       "\n",
       "    .dataframe tbody tr th {\n",
       "        vertical-align: top;\n",
       "    }\n",
       "\n",
       "    .dataframe thead th {\n",
       "        text-align: right;\n",
       "    }\n",
       "</style>\n",
       "<table border=\"1\" class=\"dataframe\">\n",
       "  <thead>\n",
       "    <tr style=\"text-align: right;\">\n",
       "      <th></th>\n",
       "      <th>0</th>\n",
       "    </tr>\n",
       "  </thead>\n",
       "  <tbody>\n",
       "    <tr>\n",
       "      <th>0</th>\n",
       "      <td>Běžná poštovní adresa zásilky</td>\n",
       "    </tr>\n",
       "    <tr>\n",
       "      <th>1</th>\n",
       "      <td>adresované fyzické osobě</td>\n",
       "    </tr>\n",
       "    <tr>\n",
       "      <th>2</th>\n",
       "      <td>Poštovní adresa zásilky adresované</td>\n",
       "    </tr>\n",
       "    <tr>\n",
       "      <th>3</th>\n",
       "      <td>právnické osobě</td>\n",
       "    </tr>\n",
       "    <tr>\n",
       "      <th>4</th>\n",
       "      <td>Paní</td>\n",
       "    </tr>\n",
       "    <tr>\n",
       "      <th>...</th>\n",
       "      <td>...</td>\n",
       "    </tr>\n",
       "    <tr>\n",
       "      <th>117</th>\n",
       "      <td>Pan</td>\n",
       "    </tr>\n",
       "    <tr>\n",
       "      <th>118</th>\n",
       "      <td>Jan Novák, 28. 2. 1956</td>\n",
       "    </tr>\n",
       "    <tr>\n",
       "      <th>119</th>\n",
       "      <td>Věznice Valdice</td>\n",
       "    </tr>\n",
       "    <tr>\n",
       "      <th>120</th>\n",
       "      <td>Nám. Míru 55</td>\n",
       "    </tr>\n",
       "    <tr>\n",
       "      <th>121</th>\n",
       "      <td>507 11  VALDICE</td>\n",
       "    </tr>\n",
       "  </tbody>\n",
       "</table>\n",
       "<p>122 rows × 1 columns</p>\n",
       "</div>"
      ],
      "text/plain": [
       "                                      0\n",
       "0         Běžná poštovní adresa zásilky\n",
       "1              adresované fyzické osobě\n",
       "2    Poštovní adresa zásilky adresované\n",
       "3                       právnické osobě\n",
       "4                                  Paní\n",
       "..                                  ...\n",
       "117                                 Pan\n",
       "118              Jan Novák, 28. 2. 1956\n",
       "119                     Věznice Valdice\n",
       "120                        Nám. Míru 55\n",
       "121                     507 11  VALDICE\n",
       "\n",
       "[122 rows x 1 columns]"
      ]
     },
     "execution_count": 15,
     "metadata": {},
     "output_type": "execute_result"
    }
   ],
   "source": [
    "print('Načtení textu ze souboru .txt')\n",
    "text = pandas.read_fwf(\"posta.txt\", header=None)\n",
    "text"
   ]
  },
  {
   "cell_type": "code",
   "execution_count": 16,
   "metadata": {},
   "outputs": [
    {
     "name": "stdout",
     "output_type": "stream",
     "text": [
      "Počet řádků, které odpovídají regulárnímu výrazu:\n"
     ]
    },
    {
     "data": {
      "text/plain": [
       "18"
      ]
     },
     "execution_count": 16,
     "metadata": {},
     "output_type": "execute_result"
    }
   ],
   "source": [
    "#regex pro check správného formátu datumů\n",
    "regex2 = re.compile(r\"\\b\\d{3}\\s\\d{2}\\s.*$\")\n",
    "\n",
    "pocet_true = 0\n",
    "for index, radek in text.iterrows():\n",
    "    if re.fullmatch(regex2, str(radek[0])):\n",
    "        pocet_true += 1\n",
    "\n",
    "print('Počet řádků, které odpovídají regulárnímu výrazu:')\n",
    "pocet_true "
   ]
  }
 ],
 "metadata": {
  "kernelspec": {
   "display_name": "Python 3",
   "language": "python",
   "name": "python3"
  },
  "language_info": {
   "codemirror_mode": {
    "name": "ipython",
    "version": 3
   },
   "file_extension": ".py",
   "mimetype": "text/x-python",
   "name": "python",
   "nbconvert_exporter": "python",
   "pygments_lexer": "ipython3",
   "version": "3.12.0"
  }
 },
 "nbformat": 4,
 "nbformat_minor": 2
}
