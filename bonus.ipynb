{
 "cells": [
  {
   "cell_type": "markdown",
   "metadata": {},
   "source": [
    "Napiš program, který se zeptá uživatele na jeho přihlašovací jméno, e-mailovou adresu a heslo. Po každém zadaném údaji program ověří jeho správnost podle následujících pravidel:\n",
    "\n",
    "uživatelské jméno smí obsahovat malá a velká písmena (nesmí obsahovat žádné jiné znaky), jeho minimálná délka je 6 znaků a jeho maximální délka je 10 znaků.\n",
    "\n",
    "heslo smí obsahovat malá a velká písmena, číslice, a následující speciální znaky: _, -, ., +, =. Jeho minimálná délka je 12 znaků a jeho maximální délka je 30 znaků.\n",
    "\n",
    "e-mail by měl být validním e-mailem 🙂 Tady jsou nějaké testovací příklady (viz zdroj)"
   ]
  },
  {
   "cell_type": "code",
   "execution_count": 1,
   "metadata": {},
   "outputs": [],
   "source": [
    "import re"
   ]
  },
  {
   "cell_type": "code",
   "execution_count": 19,
   "metadata": {},
   "outputs": [
    {
     "name": "stdout",
     "output_type": "stream",
     "text": [
      "Děkujeme, Vámi zadané jméno jmenotest je v pořádku.\n"
     ]
    }
   ],
   "source": [
    "#zadání a kontrola jména\n",
    "jmeno = input(\"Zadejte svoje uživatelské jméno: \")\n",
    "regex_jmeno = re.compile(r\"[a-zA-Z]{6,10}\")\n",
    "kontrola = regex_jmeno.fullmatch(jmeno)\n",
    "\n",
    "if kontrola: \n",
    "  print(f\"Děkujeme, Vámi zadané jméno {jmeno} je v pořádku.\")\n",
    "else:\n",
    "  print(f\"Zadané jméno není ve správném formátu. Zadejte ho prosím znovu. Může obsahovat malá a velká písmena, délka je minimálně 6 znaků, maximálně 10 znaků.\")"
   ]
  },
  {
   "cell_type": "code",
   "execution_count": 22,
   "metadata": {},
   "outputs": [
    {
     "name": "stdout",
     "output_type": "stream",
     "text": [
      "Děkujeme, Vámi zadané heslo heslo123-+=aa je v pořádku.\n"
     ]
    }
   ],
   "source": [
    "#zadání a kontrola hesla\n",
    "heslo = input(\"Zadejte svoje heslo: \")\n",
    "regex_heslo = re.compile(r\"[\\w\\-+.=]{12,30}\")\n",
    "kontrola = regex_heslo.fullmatch(heslo)\n",
    "\n",
    "if kontrola: \n",
    "  print(f\"Děkujeme, Vámi zadané heslo {heslo} je v pořádku.\")\n",
    "else:\n",
    "  print(f\"Zadané heslo není ve správném formátu. Zadejte ho prosím znovu. Může obsahovat  malá a velká písmena, číslice, a následující speciální znaky: _, -, ., +, =, délka je minimálně 12 znaků, maximálně 30 znaků.\")"
   ]
  },
  {
   "cell_type": "code",
   "execution_count": 27,
   "metadata": {},
   "outputs": [
    {
     "name": "stdout",
     "output_type": "stream",
     "text": [
      "Děkujeme, Vámi zadaný firstname.lastname@example.com je v pořádku.\n"
     ]
    }
   ],
   "source": [
    "#zadání a kontrola emailu\n",
    "email = input(\"Zadejte svůj email: \")\n",
    "regex_email = re.compile(r\"^[\\\"a-zA-Z0-9_]+([-+.][\\\"a-zA-Z0-9_]+)?@\\[?[a-zA-Z0-9]+([.-][a-zA-Z0-9]+)*\\.(?!web$)[a-zA-Z1-3]{2,}\\]?\")\n",
    "kontrola = regex_email.fullmatch(email)\n",
    "\n",
    "if kontrola: \n",
    "  print(f\"Děkujeme, Vámi zadaný {email} je v pořádku.\")\n",
    "else:\n",
    "  print(f\"Zadaný email není ve správném formátu. Zadejte ho prosím znovu.\")"
   ]
  }
 ],
 "metadata": {
  "kernelspec": {
   "display_name": "Python 3",
   "language": "python",
   "name": "python3"
  },
  "language_info": {
   "codemirror_mode": {
    "name": "ipython",
    "version": 3
   },
   "file_extension": ".py",
   "mimetype": "text/x-python",
   "name": "python",
   "nbconvert_exporter": "python",
   "pygments_lexer": "ipython3",
   "version": "3.12.0"
  }
 },
 "nbformat": 4,
 "nbformat_minor": 2
}
